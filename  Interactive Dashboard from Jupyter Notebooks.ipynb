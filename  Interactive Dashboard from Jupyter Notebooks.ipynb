{
 "cells": [
  {
   "cell_type": "markdown",
   "id": "6c4e9310-742c-4909-93eb-4297a4a96cbe",
   "metadata": {},
   "source": [
    "### Step 1: Import the Necessary Libraries"
   ]
  },
  {
   "cell_type": "code",
   "execution_count": 1,
   "id": "7758ecb7-b966-4cfe-8c88-4d09dcbb7ef1",
   "metadata": {},
   "outputs": [],
   "source": [
    "from jupyter_dash import JupyterDash\n",
    "from dash import dcc, html, Input, Output\n",
    "import yfinance as yf \n",
    "import plotly.express as px\n"
   ]
  },
  {
   "cell_type": "markdown",
   "id": "f5b02334-54df-4e75-b55f-4e0151b45e91",
   "metadata": {},
   "source": [
    "### Step 2: Initialization"
   ]
  },
  {
   "cell_type": "code",
   "execution_count": 2,
   "id": "8e583608-fb89-4a92-acf5-233451c33a22",
   "metadata": {},
   "outputs": [
    {
     "name": "stderr",
     "output_type": "stream",
     "text": [
      "C:\\Users\\mukht\\AppData\\Local\\Programs\\Python\\Python310\\lib\\site-packages\\dash\\dash.py:585: UserWarning:\n",
      "\n",
      "JupyterDash is deprecated, use Dash instead.\n",
      "See https://dash.plotly.com/dash-in-jupyter for more details.\n",
      "\n"
     ]
    }
   ],
   "source": [
    "app = JupyterDash(__name__)"
   ]
  },
  {
   "cell_type": "markdown",
   "id": "e8c93ec7-f1a5-4d4d-adbb-0bae7443fd53",
   "metadata": {},
   "source": [
    "### Step 3 : Building the Layout"
   ]
  },
  {
   "cell_type": "code",
   "execution_count": 3,
   "id": "db06ee5d-2b71-4a1b-a696-8adad86f004d",
   "metadata": {},
   "outputs": [],
   "source": [
    "app.layout = html.Div([\n",
    "\thtml.H1(\"Stock Price Analysis Dashboard\"),\n",
    "\t\n",
    "\thtml.Label(\"Select Stock Symbol:\"),\n",
    "\tdcc.Dropdown(\n",
    "\t\tid='stock-selector',\n",
    "\t\toptions=[\n",
    "\t\t\t{'label': 'AAPL', 'value': 'AAPL'},\n",
    "\t\t\t{'label': 'GOOGL', 'value': 'GOOGL'},\n",
    "\t\t\t{'label': 'MSFT', 'value': 'MSFT'},\n",
    "\t\t],\n",
    "\t\tvalue='AAPL'\n",
    "\t),\n",
    "\t\n",
    "\tdcc.Graph(id='stock-price-chart'),\n",
    "])\n"
   ]
  },
  {
   "cell_type": "markdown",
   "id": "9b86437a-0c42-45ad-8d45-8956158148ad",
   "metadata": {},
   "source": [
    "### Step 4: Adding Interactivity with Callback"
   ]
  },
  {
   "cell_type": "code",
   "execution_count": 4,
   "id": "86ec6ec7-d570-4506-a814-a7bb1ef9283b",
   "metadata": {},
   "outputs": [],
   "source": [
    "@app.callback(\n",
    "\tOutput('stock-price-chart', 'figure'),\n",
    "\t[Input('stock-selector', 'value')]\n",
    ")\n",
    "def update_chart(selected_stock):\n",
    "\tstock_data = yf.download(selected_stock, start='2022-01-01',\n",
    "\t\t\t\t\t\t\tend='2025-01-01')\n",
    "\tfig = px.line(stock_data, x=stock_data.index, y='Close',\n",
    "\t\t\t\ttitle=f'{selected_stock} Stock Price Analysis')\n",
    "\treturn fig\n"
   ]
  },
  {
   "cell_type": "markdown",
   "id": "b34ba5cc-4a60-4d84-af5f-dc5ec37c29d7",
   "metadata": {},
   "source": [
    "### Step 5: Running the Application"
   ]
  },
  {
   "cell_type": "code",
   "execution_count": 5,
   "id": "7c817d0a-153e-42c7-84f3-8d6bf82af1c9",
   "metadata": {},
   "outputs": [
    {
     "data": {
      "text/html": [
       "\n",
       "        <iframe\n",
       "            width=\"100%\"\n",
       "            height=\"650\"\n",
       "            src=\"http://127.0.0.1:8050/\"\n",
       "            frameborder=\"0\"\n",
       "            allowfullscreen\n",
       "            \n",
       "        ></iframe>\n",
       "        "
      ],
      "text/plain": [
       "<IPython.lib.display.IFrame at 0x1ff1620fe80>"
      ]
     },
     "metadata": {},
     "output_type": "display_data"
    },
    {
     "name": "stdout",
     "output_type": "stream",
     "text": [
      "Dash app running on http://127.0.0.1:8050/\n"
     ]
    }
   ],
   "source": [
    "if __name__ == '__main__':\n",
    "\tapp.run_server(port=8050, mode='external')\n"
   ]
  }
 ],
 "metadata": {
  "kernelspec": {
   "display_name": "Python 3 (ipykernel)",
   "language": "python",
   "name": "python3"
  },
  "language_info": {
   "codemirror_mode": {
    "name": "ipython",
    "version": 3
   },
   "file_extension": ".py",
   "mimetype": "text/x-python",
   "name": "python",
   "nbconvert_exporter": "python",
   "pygments_lexer": "ipython3",
   "version": "3.10.2"
  }
 },
 "nbformat": 4,
 "nbformat_minor": 5
}
